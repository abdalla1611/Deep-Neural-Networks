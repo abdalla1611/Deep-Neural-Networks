{
  "nbformat": 4,
  "nbformat_minor": 0,
  "metadata": {
    "colab": {
      "provenance": [],
      "collapsed_sections": []
    },
    "kernelspec": {
      "name": "python3",
      "display_name": "Python 3"
    },
    "language_info": {
      "name": "python"
    },
    "gpuClass": "standard",
    "accelerator": "GPU",
    "widgets": {
      "application/vnd.jupyter.widget-state+json": {
        "e2c1673cce16406e815da4bbb68b0faa": {
          "model_module": "@jupyter-widgets/controls",
          "model_name": "HBoxModel",
          "model_module_version": "1.5.0",
          "state": {
            "_dom_classes": [],
            "_model_module": "@jupyter-widgets/controls",
            "_model_module_version": "1.5.0",
            "_model_name": "HBoxModel",
            "_view_count": null,
            "_view_module": "@jupyter-widgets/controls",
            "_view_module_version": "1.5.0",
            "_view_name": "HBoxView",
            "box_style": "",
            "children": [
              "IPY_MODEL_ddabb615c18e482c97af7e7ea904fd33",
              "IPY_MODEL_a48bad19ffba487abcf758c477c87b45",
              "IPY_MODEL_50bc493c76694b56bcc735d68498d041"
            ],
            "layout": "IPY_MODEL_78a284b6f4904fd98a321e6f5e88d4a0"
          }
        },
        "ddabb615c18e482c97af7e7ea904fd33": {
          "model_module": "@jupyter-widgets/controls",
          "model_name": "HTMLModel",
          "model_module_version": "1.5.0",
          "state": {
            "_dom_classes": [],
            "_model_module": "@jupyter-widgets/controls",
            "_model_module_version": "1.5.0",
            "_model_name": "HTMLModel",
            "_view_count": null,
            "_view_module": "@jupyter-widgets/controls",
            "_view_module_version": "1.5.0",
            "_view_name": "HTMLView",
            "description": "",
            "description_tooltip": null,
            "layout": "IPY_MODEL_f7222c2a44b34f1da13cf40a841e5abd",
            "placeholder": "​",
            "style": "IPY_MODEL_5cf55750bd2d46e290f774dac51f7ad1",
            "value": "100%"
          }
        },
        "a48bad19ffba487abcf758c477c87b45": {
          "model_module": "@jupyter-widgets/controls",
          "model_name": "FloatProgressModel",
          "model_module_version": "1.5.0",
          "state": {
            "_dom_classes": [],
            "_model_module": "@jupyter-widgets/controls",
            "_model_module_version": "1.5.0",
            "_model_name": "FloatProgressModel",
            "_view_count": null,
            "_view_module": "@jupyter-widgets/controls",
            "_view_module_version": "1.5.0",
            "_view_name": "ProgressView",
            "bar_style": "success",
            "description": "",
            "description_tooltip": null,
            "layout": "IPY_MODEL_407c1f57a00a4dcd868b83c40459b627",
            "max": 182040794,
            "min": 0,
            "orientation": "horizontal",
            "style": "IPY_MODEL_5384e953337643d988c1cc6420f54476",
            "value": 182040794
          }
        },
        "50bc493c76694b56bcc735d68498d041": {
          "model_module": "@jupyter-widgets/controls",
          "model_name": "HTMLModel",
          "model_module_version": "1.5.0",
          "state": {
            "_dom_classes": [],
            "_model_module": "@jupyter-widgets/controls",
            "_model_module_version": "1.5.0",
            "_model_name": "HTMLModel",
            "_view_count": null,
            "_view_module": "@jupyter-widgets/controls",
            "_view_module_version": "1.5.0",
            "_view_name": "HTMLView",
            "description": "",
            "description_tooltip": null,
            "layout": "IPY_MODEL_6dc41acd3a73453dac6781963712ee1f",
            "placeholder": "​",
            "style": "IPY_MODEL_dfd78535e16f414f86394125279dbed1",
            "value": " 182040794/182040794 [00:04&lt;00:00, 55851857.51it/s]"
          }
        },
        "78a284b6f4904fd98a321e6f5e88d4a0": {
          "model_module": "@jupyter-widgets/base",
          "model_name": "LayoutModel",
          "model_module_version": "1.2.0",
          "state": {
            "_model_module": "@jupyter-widgets/base",
            "_model_module_version": "1.2.0",
            "_model_name": "LayoutModel",
            "_view_count": null,
            "_view_module": "@jupyter-widgets/base",
            "_view_module_version": "1.2.0",
            "_view_name": "LayoutView",
            "align_content": null,
            "align_items": null,
            "align_self": null,
            "border": null,
            "bottom": null,
            "display": null,
            "flex": null,
            "flex_flow": null,
            "grid_area": null,
            "grid_auto_columns": null,
            "grid_auto_flow": null,
            "grid_auto_rows": null,
            "grid_column": null,
            "grid_gap": null,
            "grid_row": null,
            "grid_template_areas": null,
            "grid_template_columns": null,
            "grid_template_rows": null,
            "height": null,
            "justify_content": null,
            "justify_items": null,
            "left": null,
            "margin": null,
            "max_height": null,
            "max_width": null,
            "min_height": null,
            "min_width": null,
            "object_fit": null,
            "object_position": null,
            "order": null,
            "overflow": null,
            "overflow_x": null,
            "overflow_y": null,
            "padding": null,
            "right": null,
            "top": null,
            "visibility": null,
            "width": null
          }
        },
        "f7222c2a44b34f1da13cf40a841e5abd": {
          "model_module": "@jupyter-widgets/base",
          "model_name": "LayoutModel",
          "model_module_version": "1.2.0",
          "state": {
            "_model_module": "@jupyter-widgets/base",
            "_model_module_version": "1.2.0",
            "_model_name": "LayoutModel",
            "_view_count": null,
            "_view_module": "@jupyter-widgets/base",
            "_view_module_version": "1.2.0",
            "_view_name": "LayoutView",
            "align_content": null,
            "align_items": null,
            "align_self": null,
            "border": null,
            "bottom": null,
            "display": null,
            "flex": null,
            "flex_flow": null,
            "grid_area": null,
            "grid_auto_columns": null,
            "grid_auto_flow": null,
            "grid_auto_rows": null,
            "grid_column": null,
            "grid_gap": null,
            "grid_row": null,
            "grid_template_areas": null,
            "grid_template_columns": null,
            "grid_template_rows": null,
            "height": null,
            "justify_content": null,
            "justify_items": null,
            "left": null,
            "margin": null,
            "max_height": null,
            "max_width": null,
            "min_height": null,
            "min_width": null,
            "object_fit": null,
            "object_position": null,
            "order": null,
            "overflow": null,
            "overflow_x": null,
            "overflow_y": null,
            "padding": null,
            "right": null,
            "top": null,
            "visibility": null,
            "width": null
          }
        },
        "5cf55750bd2d46e290f774dac51f7ad1": {
          "model_module": "@jupyter-widgets/controls",
          "model_name": "DescriptionStyleModel",
          "model_module_version": "1.5.0",
          "state": {
            "_model_module": "@jupyter-widgets/controls",
            "_model_module_version": "1.5.0",
            "_model_name": "DescriptionStyleModel",
            "_view_count": null,
            "_view_module": "@jupyter-widgets/base",
            "_view_module_version": "1.2.0",
            "_view_name": "StyleView",
            "description_width": ""
          }
        },
        "407c1f57a00a4dcd868b83c40459b627": {
          "model_module": "@jupyter-widgets/base",
          "model_name": "LayoutModel",
          "model_module_version": "1.2.0",
          "state": {
            "_model_module": "@jupyter-widgets/base",
            "_model_module_version": "1.2.0",
            "_model_name": "LayoutModel",
            "_view_count": null,
            "_view_module": "@jupyter-widgets/base",
            "_view_module_version": "1.2.0",
            "_view_name": "LayoutView",
            "align_content": null,
            "align_items": null,
            "align_self": null,
            "border": null,
            "bottom": null,
            "display": null,
            "flex": null,
            "flex_flow": null,
            "grid_area": null,
            "grid_auto_columns": null,
            "grid_auto_flow": null,
            "grid_auto_rows": null,
            "grid_column": null,
            "grid_gap": null,
            "grid_row": null,
            "grid_template_areas": null,
            "grid_template_columns": null,
            "grid_template_rows": null,
            "height": null,
            "justify_content": null,
            "justify_items": null,
            "left": null,
            "margin": null,
            "max_height": null,
            "max_width": null,
            "min_height": null,
            "min_width": null,
            "object_fit": null,
            "object_position": null,
            "order": null,
            "overflow": null,
            "overflow_x": null,
            "overflow_y": null,
            "padding": null,
            "right": null,
            "top": null,
            "visibility": null,
            "width": null
          }
        },
        "5384e953337643d988c1cc6420f54476": {
          "model_module": "@jupyter-widgets/controls",
          "model_name": "ProgressStyleModel",
          "model_module_version": "1.5.0",
          "state": {
            "_model_module": "@jupyter-widgets/controls",
            "_model_module_version": "1.5.0",
            "_model_name": "ProgressStyleModel",
            "_view_count": null,
            "_view_module": "@jupyter-widgets/base",
            "_view_module_version": "1.2.0",
            "_view_name": "StyleView",
            "bar_color": null,
            "description_width": ""
          }
        },
        "6dc41acd3a73453dac6781963712ee1f": {
          "model_module": "@jupyter-widgets/base",
          "model_name": "LayoutModel",
          "model_module_version": "1.2.0",
          "state": {
            "_model_module": "@jupyter-widgets/base",
            "_model_module_version": "1.2.0",
            "_model_name": "LayoutModel",
            "_view_count": null,
            "_view_module": "@jupyter-widgets/base",
            "_view_module_version": "1.2.0",
            "_view_name": "LayoutView",
            "align_content": null,
            "align_items": null,
            "align_self": null,
            "border": null,
            "bottom": null,
            "display": null,
            "flex": null,
            "flex_flow": null,
            "grid_area": null,
            "grid_auto_columns": null,
            "grid_auto_flow": null,
            "grid_auto_rows": null,
            "grid_column": null,
            "grid_gap": null,
            "grid_row": null,
            "grid_template_areas": null,
            "grid_template_columns": null,
            "grid_template_rows": null,
            "height": null,
            "justify_content": null,
            "justify_items": null,
            "left": null,
            "margin": null,
            "max_height": null,
            "max_width": null,
            "min_height": null,
            "min_width": null,
            "object_fit": null,
            "object_position": null,
            "order": null,
            "overflow": null,
            "overflow_x": null,
            "overflow_y": null,
            "padding": null,
            "right": null,
            "top": null,
            "visibility": null,
            "width": null
          }
        },
        "dfd78535e16f414f86394125279dbed1": {
          "model_module": "@jupyter-widgets/controls",
          "model_name": "DescriptionStyleModel",
          "model_module_version": "1.5.0",
          "state": {
            "_model_module": "@jupyter-widgets/controls",
            "_model_module_version": "1.5.0",
            "_model_name": "DescriptionStyleModel",
            "_view_count": null,
            "_view_module": "@jupyter-widgets/base",
            "_view_module_version": "1.2.0",
            "_view_name": "StyleView",
            "description_width": ""
          }
        },
        "95fd5b60303049a888067f9a20e4e362": {
          "model_module": "@jupyter-widgets/controls",
          "model_name": "HBoxModel",
          "model_module_version": "1.5.0",
          "state": {
            "_dom_classes": [],
            "_model_module": "@jupyter-widgets/controls",
            "_model_module_version": "1.5.0",
            "_model_name": "HBoxModel",
            "_view_count": null,
            "_view_module": "@jupyter-widgets/controls",
            "_view_module_version": "1.5.0",
            "_view_name": "HBoxView",
            "box_style": "",
            "children": [
              "IPY_MODEL_c3056c7ef0c848dfa860a8f2057b63ee",
              "IPY_MODEL_21d491590e024912b9edcd0cfef685d4",
              "IPY_MODEL_41049bb107774331b2923511bbc712ea"
            ],
            "layout": "IPY_MODEL_19461da4301a4e24a657dab19269d2ae"
          }
        },
        "c3056c7ef0c848dfa860a8f2057b63ee": {
          "model_module": "@jupyter-widgets/controls",
          "model_name": "HTMLModel",
          "model_module_version": "1.5.0",
          "state": {
            "_dom_classes": [],
            "_model_module": "@jupyter-widgets/controls",
            "_model_module_version": "1.5.0",
            "_model_name": "HTMLModel",
            "_view_count": null,
            "_view_module": "@jupyter-widgets/controls",
            "_view_module_version": "1.5.0",
            "_view_name": "HTMLView",
            "description": "",
            "description_tooltip": null,
            "layout": "IPY_MODEL_2d7e1e36a60345ba8bec013faadd00b4",
            "placeholder": "​",
            "style": "IPY_MODEL_90f9e3d5bd6a424fbbbcf8f0026763c2",
            "value": "100%"
          }
        },
        "21d491590e024912b9edcd0cfef685d4": {
          "model_module": "@jupyter-widgets/controls",
          "model_name": "FloatProgressModel",
          "model_module_version": "1.5.0",
          "state": {
            "_dom_classes": [],
            "_model_module": "@jupyter-widgets/controls",
            "_model_module_version": "1.5.0",
            "_model_name": "FloatProgressModel",
            "_view_count": null,
            "_view_module": "@jupyter-widgets/controls",
            "_view_module_version": "1.5.0",
            "_view_name": "ProgressView",
            "bar_style": "success",
            "description": "",
            "description_tooltip": null,
            "layout": "IPY_MODEL_6c3d395500834e529c90994ac0d5d4fd",
            "max": 64275384,
            "min": 0,
            "orientation": "horizontal",
            "style": "IPY_MODEL_0554ff2fb38f41989b56629d2f15c3e1",
            "value": 64275384
          }
        },
        "41049bb107774331b2923511bbc712ea": {
          "model_module": "@jupyter-widgets/controls",
          "model_name": "HTMLModel",
          "model_module_version": "1.5.0",
          "state": {
            "_dom_classes": [],
            "_model_module": "@jupyter-widgets/controls",
            "_model_module_version": "1.5.0",
            "_model_name": "HTMLModel",
            "_view_count": null,
            "_view_module": "@jupyter-widgets/controls",
            "_view_module_version": "1.5.0",
            "_view_name": "HTMLView",
            "description": "",
            "description_tooltip": null,
            "layout": "IPY_MODEL_281769ae8cc6414cb119b9a15d76a6fc",
            "placeholder": "​",
            "style": "IPY_MODEL_107e9f03a5f342e49200da7c964cb997",
            "value": " 64275384/64275384 [00:02&lt;00:00, 55395782.13it/s]"
          }
        },
        "19461da4301a4e24a657dab19269d2ae": {
          "model_module": "@jupyter-widgets/base",
          "model_name": "LayoutModel",
          "model_module_version": "1.2.0",
          "state": {
            "_model_module": "@jupyter-widgets/base",
            "_model_module_version": "1.2.0",
            "_model_name": "LayoutModel",
            "_view_count": null,
            "_view_module": "@jupyter-widgets/base",
            "_view_module_version": "1.2.0",
            "_view_name": "LayoutView",
            "align_content": null,
            "align_items": null,
            "align_self": null,
            "border": null,
            "bottom": null,
            "display": null,
            "flex": null,
            "flex_flow": null,
            "grid_area": null,
            "grid_auto_columns": null,
            "grid_auto_flow": null,
            "grid_auto_rows": null,
            "grid_column": null,
            "grid_gap": null,
            "grid_row": null,
            "grid_template_areas": null,
            "grid_template_columns": null,
            "grid_template_rows": null,
            "height": null,
            "justify_content": null,
            "justify_items": null,
            "left": null,
            "margin": null,
            "max_height": null,
            "max_width": null,
            "min_height": null,
            "min_width": null,
            "object_fit": null,
            "object_position": null,
            "order": null,
            "overflow": null,
            "overflow_x": null,
            "overflow_y": null,
            "padding": null,
            "right": null,
            "top": null,
            "visibility": null,
            "width": null
          }
        },
        "2d7e1e36a60345ba8bec013faadd00b4": {
          "model_module": "@jupyter-widgets/base",
          "model_name": "LayoutModel",
          "model_module_version": "1.2.0",
          "state": {
            "_model_module": "@jupyter-widgets/base",
            "_model_module_version": "1.2.0",
            "_model_name": "LayoutModel",
            "_view_count": null,
            "_view_module": "@jupyter-widgets/base",
            "_view_module_version": "1.2.0",
            "_view_name": "LayoutView",
            "align_content": null,
            "align_items": null,
            "align_self": null,
            "border": null,
            "bottom": null,
            "display": null,
            "flex": null,
            "flex_flow": null,
            "grid_area": null,
            "grid_auto_columns": null,
            "grid_auto_flow": null,
            "grid_auto_rows": null,
            "grid_column": null,
            "grid_gap": null,
            "grid_row": null,
            "grid_template_areas": null,
            "grid_template_columns": null,
            "grid_template_rows": null,
            "height": null,
            "justify_content": null,
            "justify_items": null,
            "left": null,
            "margin": null,
            "max_height": null,
            "max_width": null,
            "min_height": null,
            "min_width": null,
            "object_fit": null,
            "object_position": null,
            "order": null,
            "overflow": null,
            "overflow_x": null,
            "overflow_y": null,
            "padding": null,
            "right": null,
            "top": null,
            "visibility": null,
            "width": null
          }
        },
        "90f9e3d5bd6a424fbbbcf8f0026763c2": {
          "model_module": "@jupyter-widgets/controls",
          "model_name": "DescriptionStyleModel",
          "model_module_version": "1.5.0",
          "state": {
            "_model_module": "@jupyter-widgets/controls",
            "_model_module_version": "1.5.0",
            "_model_name": "DescriptionStyleModel",
            "_view_count": null,
            "_view_module": "@jupyter-widgets/base",
            "_view_module_version": "1.2.0",
            "_view_name": "StyleView",
            "description_width": ""
          }
        },
        "6c3d395500834e529c90994ac0d5d4fd": {
          "model_module": "@jupyter-widgets/base",
          "model_name": "LayoutModel",
          "model_module_version": "1.2.0",
          "state": {
            "_model_module": "@jupyter-widgets/base",
            "_model_module_version": "1.2.0",
            "_model_name": "LayoutModel",
            "_view_count": null,
            "_view_module": "@jupyter-widgets/base",
            "_view_module_version": "1.2.0",
            "_view_name": "LayoutView",
            "align_content": null,
            "align_items": null,
            "align_self": null,
            "border": null,
            "bottom": null,
            "display": null,
            "flex": null,
            "flex_flow": null,
            "grid_area": null,
            "grid_auto_columns": null,
            "grid_auto_flow": null,
            "grid_auto_rows": null,
            "grid_column": null,
            "grid_gap": null,
            "grid_row": null,
            "grid_template_areas": null,
            "grid_template_columns": null,
            "grid_template_rows": null,
            "height": null,
            "justify_content": null,
            "justify_items": null,
            "left": null,
            "margin": null,
            "max_height": null,
            "max_width": null,
            "min_height": null,
            "min_width": null,
            "object_fit": null,
            "object_position": null,
            "order": null,
            "overflow": null,
            "overflow_x": null,
            "overflow_y": null,
            "padding": null,
            "right": null,
            "top": null,
            "visibility": null,
            "width": null
          }
        },
        "0554ff2fb38f41989b56629d2f15c3e1": {
          "model_module": "@jupyter-widgets/controls",
          "model_name": "ProgressStyleModel",
          "model_module_version": "1.5.0",
          "state": {
            "_model_module": "@jupyter-widgets/controls",
            "_model_module_version": "1.5.0",
            "_model_name": "ProgressStyleModel",
            "_view_count": null,
            "_view_module": "@jupyter-widgets/base",
            "_view_module_version": "1.2.0",
            "_view_name": "StyleView",
            "bar_color": null,
            "description_width": ""
          }
        },
        "281769ae8cc6414cb119b9a15d76a6fc": {
          "model_module": "@jupyter-widgets/base",
          "model_name": "LayoutModel",
          "model_module_version": "1.2.0",
          "state": {
            "_model_module": "@jupyter-widgets/base",
            "_model_module_version": "1.2.0",
            "_model_name": "LayoutModel",
            "_view_count": null,
            "_view_module": "@jupyter-widgets/base",
            "_view_module_version": "1.2.0",
            "_view_name": "LayoutView",
            "align_content": null,
            "align_items": null,
            "align_self": null,
            "border": null,
            "bottom": null,
            "display": null,
            "flex": null,
            "flex_flow": null,
            "grid_area": null,
            "grid_auto_columns": null,
            "grid_auto_flow": null,
            "grid_auto_rows": null,
            "grid_column": null,
            "grid_gap": null,
            "grid_row": null,
            "grid_template_areas": null,
            "grid_template_columns": null,
            "grid_template_rows": null,
            "height": null,
            "justify_content": null,
            "justify_items": null,
            "left": null,
            "margin": null,
            "max_height": null,
            "max_width": null,
            "min_height": null,
            "min_width": null,
            "object_fit": null,
            "object_position": null,
            "order": null,
            "overflow": null,
            "overflow_x": null,
            "overflow_y": null,
            "padding": null,
            "right": null,
            "top": null,
            "visibility": null,
            "width": null
          }
        },
        "107e9f03a5f342e49200da7c964cb997": {
          "model_module": "@jupyter-widgets/controls",
          "model_name": "DescriptionStyleModel",
          "model_module_version": "1.5.0",
          "state": {
            "_model_module": "@jupyter-widgets/controls",
            "_model_module_version": "1.5.0",
            "_model_name": "DescriptionStyleModel",
            "_view_count": null,
            "_view_module": "@jupyter-widgets/base",
            "_view_module_version": "1.2.0",
            "_view_name": "StyleView",
            "description_width": ""
          }
        },
        "6ed037b008a14a26b187b7e43a99f30f": {
          "model_module": "@jupyter-widgets/controls",
          "model_name": "HBoxModel",
          "model_module_version": "1.5.0",
          "state": {
            "_dom_classes": [],
            "_model_module": "@jupyter-widgets/controls",
            "_model_module_version": "1.5.0",
            "_model_name": "HBoxModel",
            "_view_count": null,
            "_view_module": "@jupyter-widgets/controls",
            "_view_module_version": "1.5.0",
            "_view_name": "HBoxView",
            "box_style": "",
            "children": [
              "IPY_MODEL_573e9ef21fa049c88308743904e21f67",
              "IPY_MODEL_fb9b104a83284cc483e04522213719f6",
              "IPY_MODEL_f78175f0dc8749dfa6c4fe4f2c0780ac"
            ],
            "layout": "IPY_MODEL_496f43ae62de41da9756297b6dbe3ea7"
          }
        },
        "573e9ef21fa049c88308743904e21f67": {
          "model_module": "@jupyter-widgets/controls",
          "model_name": "HTMLModel",
          "model_module_version": "1.5.0",
          "state": {
            "_dom_classes": [],
            "_model_module": "@jupyter-widgets/controls",
            "_model_module_version": "1.5.0",
            "_model_name": "HTMLModel",
            "_view_count": null,
            "_view_module": "@jupyter-widgets/controls",
            "_view_module_version": "1.5.0",
            "_view_name": "HTMLView",
            "description": "",
            "description_tooltip": null,
            "layout": "IPY_MODEL_b8eb04bdb9be4900993354a357cfc651",
            "placeholder": "​",
            "style": "IPY_MODEL_429acd78c3444aa796cb355ae626b714",
            "value": "100%"
          }
        },
        "fb9b104a83284cc483e04522213719f6": {
          "model_module": "@jupyter-widgets/controls",
          "model_name": "FloatProgressModel",
          "model_module_version": "1.5.0",
          "state": {
            "_dom_classes": [],
            "_model_module": "@jupyter-widgets/controls",
            "_model_module_version": "1.5.0",
            "_model_name": "FloatProgressModel",
            "_view_count": null,
            "_view_module": "@jupyter-widgets/controls",
            "_view_module_version": "1.5.0",
            "_view_name": "ProgressView",
            "bar_style": "success",
            "description": "",
            "description_tooltip": null,
            "layout": "IPY_MODEL_44b93755b75741189bdaa7023751c961",
            "max": 46830571,
            "min": 0,
            "orientation": "horizontal",
            "style": "IPY_MODEL_45b862429ce840498076d37b9ea2690b",
            "value": 46830571
          }
        },
        "f78175f0dc8749dfa6c4fe4f2c0780ac": {
          "model_module": "@jupyter-widgets/controls",
          "model_name": "HTMLModel",
          "model_module_version": "1.5.0",
          "state": {
            "_dom_classes": [],
            "_model_module": "@jupyter-widgets/controls",
            "_model_module_version": "1.5.0",
            "_model_name": "HTMLModel",
            "_view_count": null,
            "_view_module": "@jupyter-widgets/controls",
            "_view_module_version": "1.5.0",
            "_view_name": "HTMLView",
            "description": "",
            "description_tooltip": null,
            "layout": "IPY_MODEL_9e34f4e8f83c4e72882b9755af9465ad",
            "placeholder": "​",
            "style": "IPY_MODEL_c5d521b9fa0e488789c758f9808c3975",
            "value": " 44.7M/44.7M [00:00&lt;00:00, 147MB/s]"
          }
        },
        "496f43ae62de41da9756297b6dbe3ea7": {
          "model_module": "@jupyter-widgets/base",
          "model_name": "LayoutModel",
          "model_module_version": "1.2.0",
          "state": {
            "_model_module": "@jupyter-widgets/base",
            "_model_module_version": "1.2.0",
            "_model_name": "LayoutModel",
            "_view_count": null,
            "_view_module": "@jupyter-widgets/base",
            "_view_module_version": "1.2.0",
            "_view_name": "LayoutView",
            "align_content": null,
            "align_items": null,
            "align_self": null,
            "border": null,
            "bottom": null,
            "display": null,
            "flex": null,
            "flex_flow": null,
            "grid_area": null,
            "grid_auto_columns": null,
            "grid_auto_flow": null,
            "grid_auto_rows": null,
            "grid_column": null,
            "grid_gap": null,
            "grid_row": null,
            "grid_template_areas": null,
            "grid_template_columns": null,
            "grid_template_rows": null,
            "height": null,
            "justify_content": null,
            "justify_items": null,
            "left": null,
            "margin": null,
            "max_height": null,
            "max_width": null,
            "min_height": null,
            "min_width": null,
            "object_fit": null,
            "object_position": null,
            "order": null,
            "overflow": null,
            "overflow_x": null,
            "overflow_y": null,
            "padding": null,
            "right": null,
            "top": null,
            "visibility": null,
            "width": null
          }
        },
        "b8eb04bdb9be4900993354a357cfc651": {
          "model_module": "@jupyter-widgets/base",
          "model_name": "LayoutModel",
          "model_module_version": "1.2.0",
          "state": {
            "_model_module": "@jupyter-widgets/base",
            "_model_module_version": "1.2.0",
            "_model_name": "LayoutModel",
            "_view_count": null,
            "_view_module": "@jupyter-widgets/base",
            "_view_module_version": "1.2.0",
            "_view_name": "LayoutView",
            "align_content": null,
            "align_items": null,
            "align_self": null,
            "border": null,
            "bottom": null,
            "display": null,
            "flex": null,
            "flex_flow": null,
            "grid_area": null,
            "grid_auto_columns": null,
            "grid_auto_flow": null,
            "grid_auto_rows": null,
            "grid_column": null,
            "grid_gap": null,
            "grid_row": null,
            "grid_template_areas": null,
            "grid_template_columns": null,
            "grid_template_rows": null,
            "height": null,
            "justify_content": null,
            "justify_items": null,
            "left": null,
            "margin": null,
            "max_height": null,
            "max_width": null,
            "min_height": null,
            "min_width": null,
            "object_fit": null,
            "object_position": null,
            "order": null,
            "overflow": null,
            "overflow_x": null,
            "overflow_y": null,
            "padding": null,
            "right": null,
            "top": null,
            "visibility": null,
            "width": null
          }
        },
        "429acd78c3444aa796cb355ae626b714": {
          "model_module": "@jupyter-widgets/controls",
          "model_name": "DescriptionStyleModel",
          "model_module_version": "1.5.0",
          "state": {
            "_model_module": "@jupyter-widgets/controls",
            "_model_module_version": "1.5.0",
            "_model_name": "DescriptionStyleModel",
            "_view_count": null,
            "_view_module": "@jupyter-widgets/base",
            "_view_module_version": "1.2.0",
            "_view_name": "StyleView",
            "description_width": ""
          }
        },
        "44b93755b75741189bdaa7023751c961": {
          "model_module": "@jupyter-widgets/base",
          "model_name": "LayoutModel",
          "model_module_version": "1.2.0",
          "state": {
            "_model_module": "@jupyter-widgets/base",
            "_model_module_version": "1.2.0",
            "_model_name": "LayoutModel",
            "_view_count": null,
            "_view_module": "@jupyter-widgets/base",
            "_view_module_version": "1.2.0",
            "_view_name": "LayoutView",
            "align_content": null,
            "align_items": null,
            "align_self": null,
            "border": null,
            "bottom": null,
            "display": null,
            "flex": null,
            "flex_flow": null,
            "grid_area": null,
            "grid_auto_columns": null,
            "grid_auto_flow": null,
            "grid_auto_rows": null,
            "grid_column": null,
            "grid_gap": null,
            "grid_row": null,
            "grid_template_areas": null,
            "grid_template_columns": null,
            "grid_template_rows": null,
            "height": null,
            "justify_content": null,
            "justify_items": null,
            "left": null,
            "margin": null,
            "max_height": null,
            "max_width": null,
            "min_height": null,
            "min_width": null,
            "object_fit": null,
            "object_position": null,
            "order": null,
            "overflow": null,
            "overflow_x": null,
            "overflow_y": null,
            "padding": null,
            "right": null,
            "top": null,
            "visibility": null,
            "width": null
          }
        },
        "45b862429ce840498076d37b9ea2690b": {
          "model_module": "@jupyter-widgets/controls",
          "model_name": "ProgressStyleModel",
          "model_module_version": "1.5.0",
          "state": {
            "_model_module": "@jupyter-widgets/controls",
            "_model_module_version": "1.5.0",
            "_model_name": "ProgressStyleModel",
            "_view_count": null,
            "_view_module": "@jupyter-widgets/base",
            "_view_module_version": "1.2.0",
            "_view_name": "StyleView",
            "bar_color": null,
            "description_width": ""
          }
        },
        "9e34f4e8f83c4e72882b9755af9465ad": {
          "model_module": "@jupyter-widgets/base",
          "model_name": "LayoutModel",
          "model_module_version": "1.2.0",
          "state": {
            "_model_module": "@jupyter-widgets/base",
            "_model_module_version": "1.2.0",
            "_model_name": "LayoutModel",
            "_view_count": null,
            "_view_module": "@jupyter-widgets/base",
            "_view_module_version": "1.2.0",
            "_view_name": "LayoutView",
            "align_content": null,
            "align_items": null,
            "align_self": null,
            "border": null,
            "bottom": null,
            "display": null,
            "flex": null,
            "flex_flow": null,
            "grid_area": null,
            "grid_auto_columns": null,
            "grid_auto_flow": null,
            "grid_auto_rows": null,
            "grid_column": null,
            "grid_gap": null,
            "grid_row": null,
            "grid_template_areas": null,
            "grid_template_columns": null,
            "grid_template_rows": null,
            "height": null,
            "justify_content": null,
            "justify_items": null,
            "left": null,
            "margin": null,
            "max_height": null,
            "max_width": null,
            "min_height": null,
            "min_width": null,
            "object_fit": null,
            "object_position": null,
            "order": null,
            "overflow": null,
            "overflow_x": null,
            "overflow_y": null,
            "padding": null,
            "right": null,
            "top": null,
            "visibility": null,
            "width": null
          }
        },
        "c5d521b9fa0e488789c758f9808c3975": {
          "model_module": "@jupyter-widgets/controls",
          "model_name": "DescriptionStyleModel",
          "model_module_version": "1.5.0",
          "state": {
            "_model_module": "@jupyter-widgets/controls",
            "_model_module_version": "1.5.0",
            "_model_name": "DescriptionStyleModel",
            "_view_count": null,
            "_view_module": "@jupyter-widgets/base",
            "_view_module_version": "1.2.0",
            "_view_name": "StyleView",
            "description_width": ""
          }
        }
      }
    }
  },
  "cells": [
    {
      "cell_type": "markdown",
      "source": [
        "### Setup the data"
      ],
      "metadata": {
        "id": "cU6YjATpAtNn"
      }
    },
    {
      "cell_type": "code",
      "execution_count": null,
      "metadata": {
        "id": "dhWydgHi4FQo"
      },
      "outputs": [],
      "source": [
        "import numpy as np\n",
        "import torch\n",
        "import torchvision\n",
        "from torchvision import datasets, transforms\n",
        "import matplotlib.pyplot as plt\n",
        "from torch.functional import split\n",
        "import random\n"
      ]
    },
    {
      "cell_type": "code",
      "source": [
        "# Torch/PIL transformations which are applied to each image in the dataset\n",
        "transform = transforms.Compose([transforms.ToTensor(), \n",
        "                              #  transforms.ColorJitter(brightness=0.7, contrast=.5, saturation=.1, hue=.1)\n",
        "                               ])\n",
        "\n",
        "batch_size = 64\n",
        "\n",
        "trainset = torchvision.datasets.SVHN(root='./data',split='train',\n",
        "                                        download=True, transform=transform)\n",
        "train_size = int(0.8 * len(trainset))\n",
        "vali_size = len(trainset) - train_size\n",
        "dataset_sizes = {'train':train_size , 'val':vali_size}\n",
        "random.seed(0)\n",
        "trainset,validationset = torch.utils.data.random_split(trainset,[train_size,vali_size])\n",
        "dataset = {'train':trainset , 'val':validationset}\n",
        "dataloaders = {x : torch.utils.data.DataLoader(dataset[x], batch_size=batch_size,\n",
        "                                          shuffle=True, num_workers=2)\n",
        "            for x in ['train', 'val']}\n",
        "\n",
        "testset = torchvision.datasets.SVHN(root='./data',split='test',\n",
        "                                       download=True, transform=transform)\n",
        "testloader = torch.utils.data.DataLoader(testset, batch_size=batch_size,\n",
        "                                         shuffle=False, num_workers=2)\n",
        "\n",
        "classes = ('0', '1', '2', '3', '4', '5', '6', '7', '8', '9')"
      ],
      "metadata": {
        "colab": {
          "base_uri": "https://localhost:8080/",
          "height": 116,
          "referenced_widgets": [
            "e2c1673cce16406e815da4bbb68b0faa",
            "ddabb615c18e482c97af7e7ea904fd33",
            "a48bad19ffba487abcf758c477c87b45",
            "50bc493c76694b56bcc735d68498d041",
            "78a284b6f4904fd98a321e6f5e88d4a0",
            "f7222c2a44b34f1da13cf40a841e5abd",
            "5cf55750bd2d46e290f774dac51f7ad1",
            "407c1f57a00a4dcd868b83c40459b627",
            "5384e953337643d988c1cc6420f54476",
            "6dc41acd3a73453dac6781963712ee1f",
            "dfd78535e16f414f86394125279dbed1",
            "95fd5b60303049a888067f9a20e4e362",
            "c3056c7ef0c848dfa860a8f2057b63ee",
            "21d491590e024912b9edcd0cfef685d4",
            "41049bb107774331b2923511bbc712ea",
            "19461da4301a4e24a657dab19269d2ae",
            "2d7e1e36a60345ba8bec013faadd00b4",
            "90f9e3d5bd6a424fbbbcf8f0026763c2",
            "6c3d395500834e529c90994ac0d5d4fd",
            "0554ff2fb38f41989b56629d2f15c3e1",
            "281769ae8cc6414cb119b9a15d76a6fc",
            "107e9f03a5f342e49200da7c964cb997"
          ]
        },
        "id": "GRGlb6M3-liS",
        "outputId": "c8c0591d-9173-4f54-b4dc-19fee48546b6"
      },
      "execution_count": null,
      "outputs": [
        {
          "output_type": "stream",
          "name": "stdout",
          "text": [
            "Downloading http://ufldl.stanford.edu/housenumbers/train_32x32.mat to ./data/train_32x32.mat\n"
          ]
        },
        {
          "output_type": "display_data",
          "data": {
            "text/plain": [
              "  0%|          | 0/182040794 [00:00<?, ?it/s]"
            ],
            "application/vnd.jupyter.widget-view+json": {
              "version_major": 2,
              "version_minor": 0,
              "model_id": "e2c1673cce16406e815da4bbb68b0faa"
            }
          },
          "metadata": {}
        },
        {
          "output_type": "stream",
          "name": "stdout",
          "text": [
            "Downloading http://ufldl.stanford.edu/housenumbers/test_32x32.mat to ./data/test_32x32.mat\n"
          ]
        },
        {
          "output_type": "display_data",
          "data": {
            "text/plain": [
              "  0%|          | 0/64275384 [00:00<?, ?it/s]"
            ],
            "application/vnd.jupyter.widget-view+json": {
              "version_major": 2,
              "version_minor": 0,
              "model_id": "95fd5b60303049a888067f9a20e4e362"
            }
          },
          "metadata": {}
        }
      ]
    },
    {
      "cell_type": "code",
      "source": [
        "# get a single batch\n",
        "dataiter = iter(dataloaders['train'])\n",
        "images, labels = dataiter.next()\n",
        "print(\"64 images batch, 3*32*32 image size each:\", images.shape)\n",
        "print(\"64 array of labels\", labels.shape)\n",
        "print(\"labels for example:\", labels)"
      ],
      "metadata": {
        "colab": {
          "base_uri": "https://localhost:8080/"
        },
        "id": "wcthjI3yKxdk",
        "outputId": "ccdcfd74-8529-4454-c87a-2285866c49cb"
      },
      "execution_count": null,
      "outputs": [
        {
          "output_type": "stream",
          "name": "stdout",
          "text": [
            "64 images batch, 3*32*32 image size each: torch.Size([64, 3, 32, 32])\n",
            "64 array of labels torch.Size([64])\n",
            "labels for example: tensor([1, 4, 3, 1, 3, 1, 8, 1, 3, 4, 0, 2, 2, 5, 1, 6, 1, 3, 2, 6, 5, 5, 7, 1,\n",
            "        5, 4, 2, 3, 3, 2, 4, 9, 1, 3, 8, 1, 1, 3, 1, 4, 6, 2, 1, 3, 0, 0, 7, 1,\n",
            "        3, 1, 1, 8, 5, 6, 1, 2, 6, 2, 5, 4, 1, 2, 1, 0])\n"
          ]
        }
      ]
    },
    {
      "cell_type": "code",
      "source": [
        "plt.imshow(images[0].numpy().transpose(1,2,0).squeeze())\n",
        "print(\"the label is:\", labels[0])"
      ],
      "metadata": {
        "colab": {
          "base_uri": "https://localhost:8080/",
          "height": 283
        },
        "id": "N6RZrwNsZJgz",
        "outputId": "5bb2492f-7ddd-4fe7-a325-c85f3d4593b1"
      },
      "execution_count": null,
      "outputs": [
        {
          "output_type": "stream",
          "name": "stdout",
          "text": [
            "the label is: tensor(1)\n"
          ]
        },
        {
          "output_type": "display_data",
          "data": {
            "text/plain": [
              "<Figure size 432x288 with 1 Axes>"
            ],
            "image/png": "[encoded data removed]"
          },
          "metadata": {
            "needs_background": "light"
          }
        }
      ]
    },
    {
      "cell_type": "code",
      "source": [
        "figure = plt.figure()\n",
        "num_of_images = 60\n",
        "for index in range(1, num_of_images + 1):\n",
        "    plt.subplot(6, 10, index)\n",
        "    plt.axis('off')\n",
        "    plt.imshow(images[index].numpy().transpose(1,2,0).squeeze(),cmap='gray_r')\n",
        "print(labels[1:61].reshape((6,10)))\n",
        "print(\"------------------------------------------------\")"
      ],
      "metadata": {
        "colab": {
          "base_uri": "https://localhost:8080/",
          "height": 367
        },
        "id": "ZiJNzGVAjfo_",
        "outputId": "47ed6e6b-90e9-4299-9595-73619532a8eb"
      },
      "execution_count": null,
      "outputs": [
        {
          "output_type": "stream",
          "name": "stdout",
          "text": [
            "tensor([[4, 3, 1, 3, 1, 8, 1, 3, 4, 0],\n",
            "        [2, 2, 5, 1, 6, 1, 3, 2, 6, 5],\n",
            "        [5, 7, 1, 5, 4, 2, 3, 3, 2, 4],\n",
            "        [9, 1, 3, 8, 1, 1, 3, 1, 4, 6],\n",
            "        [2, 1, 3, 0, 0, 7, 1, 3, 1, 1],\n",
            "        [8, 5, 6, 1, 2, 6, 2, 5, 4, 1]])\n",
            "------------------------------------------------\n"
          ]
        },
        {
          "output_type": "display_data",
          "data": {
            "text/plain": [
              "<Figure size 432x288 with 60 Axes>"
            ],
            "image/png": "[encoded data removed]"
          },
          "metadata": {
            "needs_background": "light"
          }
        }
      ]
    },
    {
      "cell_type": "markdown",
      "source": [
        "## Our Models - Fully-Connected (FC) Network &  CNN\n"
      ],
      "metadata": {
        "id": "DB7uEtPAf2mV"
      }
    },
    {
      "cell_type": "code",
      "source": [
        "import torch\n",
        "from torch import tensor\n",
        "import torch.nn.functional as F\n",
        "from torch.nn.modules import padding\n",
        "from torch.optim import lr_scheduler\n",
        "from torchsummary import summary\n",
        "from torch import optim , nn\n",
        "import torchvision.models as models\n",
        "import time\n",
        "import copy"
      ],
      "metadata": {
        "id": "FYXMk6-ulijJ"
      },
      "execution_count": null,
      "outputs": []
    },
    {
      "cell_type": "code",
      "source": [
        "class FCNet(nn.Module):\n",
        "    def __init__(self,hidden_sizes,output_size=10,input_size =6144):# 32*32*3\n",
        "      super(FCNet, self).__init__()\n",
        "      self.input = nn.Linear(input_size, hidden_sizes[0])\n",
        "      self.hidden1 = nn.Linear(hidden_sizes[0], hidden_sizes[1])\n",
        "      self.hidden2 = nn.Linear(hidden_sizes[1], output_size)\n",
        "\n",
        "    # x represents our data\n",
        "    def forward(self, x):\n",
        "      x = self.input(x)\n",
        "      x = F.relu(x)\n",
        "      x = self.hidden1(x)\n",
        "      x = F.relu(x)\n",
        "      # sometimes refered to as 'logits'\n",
        "      x = self.hidden2(x)\n",
        "      return x\n"
      ],
      "metadata": {
        "id": "jyZaeHVh2XUv"
      },
      "execution_count": null,
      "outputs": []
    },
    {
      "cell_type": "code",
      "source": [
        "class CNN(nn.Module):\n",
        "    def __init__(self,k):\n",
        "      super(CNN, self).__init__()\n",
        "      #32x32x3 => 32x32x10\n",
        "      self.conv1 = nn.Conv2d(3,10,kernel_size=k,stride=1,padding=1)\n",
        "      #32x32x10 => 16x16x10\n",
        "      self.mpooling2 = nn.MaxPool2d(2,stride=2,padding=0)\n",
        "      #16x16x10 => 16x16x20\n",
        "      self.conv3 = nn.Conv2d(10,20,kernel_size=k,stride=1,padding=1)\n",
        "      #16x16x20 => 8x8x20\n",
        "      self.mpooling4=nn.MaxPool2d(2,stride=2,padding=0)\n",
        "      self.fc5 = nn.Linear(8*8*20, 64)\n",
        "      self.fc6 = nn.Linear(64,10)\n",
        "\n",
        "\n",
        "    # x represents our data\n",
        "    def forward(self, x):\n",
        "      x = self.conv1(x)\n",
        "      x = F.relu(x)\n",
        "      x = self.mpooling2(x)\n",
        "      x = self.conv3(x)\n",
        "      x = F.relu(x)\n",
        "      x = self.mpooling4(x)\n",
        "      x = x.view(-1, 8*8*20)\n",
        "      x = self.fc5(x)\n",
        "      x = F.relu(x)\n",
        "      x = self.fc6(x)\n",
        "      x = F.relu(x)\n",
        "      return x"
      ],
      "metadata": {
        "id": "T86gC8GXedDI"
      },
      "execution_count": null,
      "outputs": []
    },
    {
      "cell_type": "code",
      "source": [
        "device = 'cuda'\n",
        "k1 = 3\n",
        "k2 = 10\n",
        "k3 = 1\n",
        "hidden_sizes1 = [128, 64]\n",
        "hidden_sizes2 = [512,256]\n",
        "hidden_sizes3 = [64,32]\n",
        "\n",
        "CNNmodel_1 = CNN(k1).to(device)\n",
        "FCmodel_1 = FCNet(hidden_sizes1).to(device)\n",
        "# summary(FCmodel_1,input_size=(1,3072))"
      ],
      "metadata": {
        "id": "2fARCaW7GKHz"
      },
      "execution_count": null,
      "outputs": []
    },
    {
      "cell_type": "markdown",
      "source": [
        "### Training"
      ],
      "metadata": {
        "id": "iP1EINJWLa89"
      }
    },
    {
      "cell_type": "code",
      "source": [
        "def FCtrain_model(model, trainloader, optimizer):\n",
        "  for epoch in range(30):  # loop over the dataset multiple times\n",
        "\n",
        "      running_loss = 0.0\n",
        "      for i, data in enumerate(trainloader, 0):\n",
        "          # get the inputs; data is a list of [inputs, labels]\n",
        "          inputs, labels = data\n",
        "          inputs = inputs.view(inputs.shape[0], -1)\n",
        "          # mode to device/cuda\n",
        "          inputs, labels = inputs.to(device), labels.to(device)\n",
        "\n",
        "          # zero the parameter gradients\n",
        "          optimizer.zero_grad()\n",
        "\n",
        "          # forward + backward + optimize\n",
        "          outputs = model(inputs)\n",
        "          loss = criterion(outputs, labels)\n",
        "          loss.backward()\n",
        "          optimizer.step()\n",
        "\n",
        "          # print statistics\n",
        "          running_loss += loss.item()\n",
        "          if i % 100 == 1:    # print every 100 mini-batches\n",
        "              print('epoch: %2d, minibatch: %2d, loss: %.3f' %\n",
        "                    (epoch + 1, i / 100, running_loss / 100))\n",
        "              running_loss = 0.0\n",
        "\n",
        "  print('Finished Training')"
      ],
      "metadata": {
        "id": "hW6bB3jmLMm4"
      },
      "execution_count": null,
      "outputs": []
    },
    {
      "cell_type": "code",
      "source": [
        "criterion = nn.CrossEntropyLoss()\n",
        "CNNoptimizer = optim.Adam(CNNmodel_1.parameters(),lr=0.001)\n",
        "CNN_exp_lr_scheduler = lr_scheduler.StepLR(CNNoptimizer, step_size=10, gamma=0.1)\n",
        "FCoptimizer = optim.Adam(FCmodel_1.parameters(),lr=0.001)\n",
        "FC_exp_lr_scheduler = lr_scheduler.StepLR(FCoptimizer, step_size=10, gamma=0.1)"
      ],
      "metadata": {
        "id": "UujDCr65Lvfh"
      },
      "execution_count": null,
      "outputs": []
    },
    {
      "cell_type": "code",
      "source": [
        "def eval_model(model, val_loader, device=\"cuda\"):\n",
        "  correct_count, all_count = 0, 0\n",
        "  with torch.no_grad():\n",
        "    for inputs, labels in val_loader:\n",
        "        inputs = inputs.to(device)\n",
        "        labels = labels.to(device)\n",
        "        outputs = model(inputs)\n",
        "        _, preds = torch.max(outputs, 1)\n",
        "        correct_pred = torch.eq(labels, preds).cpu()\n",
        "        correct_count += correct_pred.numpy().sum()\n",
        "        all_count += len(labels)\n",
        "\n",
        "  print(\"Number Of Images Tested =\", all_count)\n",
        "  print(\"\\nModel Accuracy =\", (correct_count/all_count))"
      ],
      "metadata": {
        "id": "m7rIzImyZeAI"
      },
      "execution_count": null,
      "outputs": []
    },
    {
      "cell_type": "markdown",
      "source": [
        "### training"
      ],
      "metadata": {
        "id": "ldR6_muiDrUf"
      }
    },
    {
      "cell_type": "code",
      "source": [
        "def train(model, criterion, optimizer, scheduler, num_epochs=30):\n",
        "    history1 = {'train_loss':[],'val_loss':[] ,'val_acc':[],'acc':[]}\n",
        "    since = time.time()\n",
        "    best_model_wts = copy.deepcopy(model.state_dict())\n",
        "    best_acc = 0.0\n",
        "    for epoch in range(num_epochs):\n",
        "        print('Epoch {}/{}'.format(epoch, num_epochs - 1))\n",
        "        print('-' * 10)\n",
        "\n",
        "        # Each epoch has a training and validation phase\n",
        "        for phase in ['train', 'val']:\n",
        "            if phase == 'train':\n",
        "                model.train()  # Set model to training mode\n",
        "            else:\n",
        "                model.eval()   # Set model to evaluate mode\n",
        "\n",
        "            running_loss = 0.0\n",
        "            running_corrects = 0\n",
        "\n",
        "            # Iterate over data.\n",
        "            for inputs, labels in dataloaders[phase]:\n",
        "                if type(model)==FCNet:\n",
        "                  inputs = inputs.view(inputs.shape[0], -1)\n",
        "                  inputs, labels = inputs.to(device), labels.to(device)\n",
        "\n",
        "                inputs = inputs.to(device)\n",
        "                labels = labels.to(device)\n",
        "\n",
        "                # zero the parameter gradients\n",
        "                optimizer.zero_grad()\n",
        "          # mode to device/cuda\n",
        "                # forward\n",
        "                # track history if only in train\n",
        "                with torch.set_grad_enabled(phase == 'train'):\n",
        "                    # logits: The raw predictions from the last layer\n",
        "                    logits = model(inputs)\n",
        "                    _, preds = torch.max(logits, 1)\n",
        "                    # using CE criterion, thus input is the logits\n",
        "                    loss = criterion(logits, labels)\n",
        "\n",
        "                    # backward + optimize only if in training phase\n",
        "                    if phase == 'train':\n",
        "                        loss.backward()\n",
        "                        optimizer.step()\n",
        "\n",
        "                # statistics\n",
        "                running_loss += loss.item() * inputs.size(0)\n",
        "                running_corrects += torch.sum(preds == labels.data)\n",
        "            if phase == 'train':\n",
        "                scheduler.step()\n",
        "\n",
        "            epoch_loss = running_loss / dataset_sizes[phase]\n",
        "            epoch_acc = running_corrects.double() / dataset_sizes[phase]\n",
        "            \n",
        "\n",
        "            if phase == 'train':\n",
        "              print('{} Loss: {:.4f} Acc: {:.4f}'.format(\n",
        "                  phase, epoch_loss, epoch_acc))\n",
        "              history1['train_loss'].append(epoch_loss)\n",
        "              history1['acc'].append(epoch_acc)\n",
        "            else:\n",
        "              history1['val_loss'].append(epoch_loss)\n",
        "              history1['val_acc'].append(epoch_acc)\n",
        "              \n",
        "            # deep copy the model the best accuracy based on the validation set\n",
        "            if phase == 'val' and epoch_acc > best_acc:\n",
        "                best_acc = epoch_acc\n",
        "                best_model_wts = copy.deepcopy(model.state_dict())\n",
        "\n",
        "        print()\n",
        "\n",
        "    time_elapsed = time.time() - since\n",
        "    print('Training complete in {:.0f}m {:.0f}s'.format(\n",
        "        time_elapsed // 60, time_elapsed % 60))\n",
        "    #print('Best val Acc: {:4f}'.format(best_acc))\n",
        "\n",
        "    # load best model weights\n",
        "    model.load_state_dict(best_model_wts)\n",
        "    return model,history1"
      ],
      "metadata": {
        "id": "-sSsCn7jEXLf"
      },
      "execution_count": null,
      "outputs": []
    },
    {
      "cell_type": "code",
      "source": [
        "CNNmodel1 ,cnn_hist1 = train(CNNmodel_1, criterion, CNNoptimizer, CNN_exp_lr_scheduler)"
      ],
      "metadata": {
        "id": "ymGQ3wraw5Bx",
        "colab": {
          "base_uri": "https://localhost:8080/"
        },
        "outputId": "da81307b-29ab-4811-9594-4439383e2d2f"
      },
      "execution_count": null,
      "outputs": [
        {
          "output_type": "stream",
          "name": "stdout",
          "text": [
            "Epoch 0/29\n",
            "----------\n",
            "train Loss: 1.8682 Acc: 0.3665\n",
            "\n",
            "Epoch 1/29\n",
            "----------\n",
            "train Loss: 1.2175 Acc: 0.6234\n",
            "\n",
            "Epoch 2/29\n",
            "----------\n",
            "train Loss: 1.1036 Acc: 0.6608\n",
            "\n",
            "Epoch 3/29\n",
            "----------\n",
            "train Loss: 1.0612 Acc: 0.6717\n",
            "\n",
            "Epoch 4/29\n",
            "----------\n",
            "train Loss: 1.0357 Acc: 0.6800\n",
            "\n",
            "Epoch 5/29\n",
            "----------\n",
            "train Loss: 1.0145 Acc: 0.6847\n",
            "\n",
            "Epoch 6/29\n",
            "----------\n",
            "train Loss: 1.0011 Acc: 0.6882\n",
            "\n",
            "Epoch 7/29\n",
            "----------\n",
            "train Loss: 0.9892 Acc: 0.6917\n",
            "\n",
            "Epoch 8/29\n",
            "----------\n",
            "train Loss: 0.9797 Acc: 0.6930\n",
            "\n",
            "Epoch 9/29\n",
            "----------\n",
            "train Loss: 0.9713 Acc: 0.6966\n",
            "\n",
            "Epoch 10/29\n",
            "----------\n",
            "train Loss: 0.9382 Acc: 0.7043\n",
            "\n",
            "Epoch 11/29\n",
            "----------\n",
            "train Loss: 0.9346 Acc: 0.7053\n",
            "\n",
            "Epoch 12/29\n",
            "----------\n",
            "train Loss: 0.9327 Acc: 0.7067\n",
            "\n",
            "Epoch 13/29\n",
            "----------\n",
            "train Loss: 0.9311 Acc: 0.7072\n",
            "\n",
            "Epoch 14/29\n",
            "----------\n",
            "train Loss: 0.9298 Acc: 0.7070\n",
            "\n",
            "Epoch 15/29\n",
            "----------\n",
            "train Loss: 0.9283 Acc: 0.7075\n",
            "\n",
            "Epoch 16/29\n",
            "----------\n",
            "train Loss: 0.9277 Acc: 0.7077\n",
            "\n",
            "Epoch 17/29\n",
            "----------\n",
            "train Loss: 0.9264 Acc: 0.7082\n",
            "\n",
            "Epoch 18/29\n",
            "----------\n",
            "train Loss: 0.9251 Acc: 0.7089\n",
            "\n",
            "Epoch 19/29\n",
            "----------\n",
            "train Loss: 0.9242 Acc: 0.7089\n",
            "\n",
            "Epoch 20/29\n",
            "----------\n",
            "train Loss: 0.9203 Acc: 0.7098\n",
            "\n",
            "Epoch 21/29\n",
            "----------\n",
            "train Loss: 0.9198 Acc: 0.7098\n",
            "\n",
            "Epoch 22/29\n",
            "----------\n",
            "train Loss: 0.9197 Acc: 0.7100\n",
            "\n",
            "Epoch 23/29\n",
            "----------\n",
            "train Loss: 0.9195 Acc: 0.7099\n",
            "\n",
            "Epoch 24/29\n",
            "----------\n",
            "train Loss: 0.9195 Acc: 0.7097\n",
            "\n",
            "Epoch 25/29\n",
            "----------\n",
            "train Loss: 0.9193 Acc: 0.7101\n",
            "\n",
            "Epoch 26/29\n",
            "----------\n",
            "train Loss: 0.9193 Acc: 0.7098\n",
            "\n",
            "Epoch 27/29\n",
            "----------\n",
            "train Loss: 0.9191 Acc: 0.7097\n",
            "\n",
            "Epoch 28/29\n",
            "----------\n",
            "train Loss: 0.9190 Acc: 0.7100\n",
            "\n",
            "Epoch 29/29\n",
            "----------\n",
            "train Loss: 0.9189 Acc: 0.7099\n",
            "\n",
            "Training complete in 6m 44s\n"
          ]
        }
      ]
    },
    {
      "cell_type": "code",
      "source": [
        "print(\"start FCmodle\")\n",
        "FCmodel1,fc_hist1 = train(FCmodel_1,criterion,FCoptimizer,FC_exp_lr_scheduler)\n"
      ],
      "metadata": {
        "id": "KIHTT4QVoRAN"
      },
      "execution_count": null,
      "outputs": []
    },
    {
      "cell_type": "code",
      "source": [
        "def loss_train_vs_val(history):\n",
        "  loss_train = tensor(history['train_loss'],device='cpu')\n",
        "  loss_val = tensor(history['val_loss'],device='cpu')\n",
        "  epochs = [i for i in range(0,30)]\n",
        "  plt.plot(epochs, loss_train, 'g', label='Training loss')\n",
        "  plt.plot(epochs, loss_val, 'b', label='validation loss')\n",
        "  plt.title('Training and Validation loss')\n",
        "  plt.xlabel('Epochs')\n",
        "  plt.ylabel('Loss')\n",
        "  plt.legend()\n",
        "  plt.show()\n",
        "\n",
        "\n",
        "def acc_train_vs_val(history):\n",
        "  loss_train = tensor(history['acc'],device='cpu')\n",
        "  loss_val = tensor(history['val_acc'],device='cpu')\n",
        "  epochs = [i for i in range(0,30)]\n",
        "  plt.plot(epochs, loss_train, 'g', label='Training accuracy')\n",
        "  plt.plot(epochs, loss_val, 'b', label='validation accuracy')\n",
        "  plt.title('Training and Validation accuracy')\n",
        "  plt.xlabel('Epochs')\n",
        "  plt.ylabel('Accuracy')\n",
        "  plt.legend()\n",
        "  plt.show()"
      ],
      "metadata": {
        "id": "RLJtCC2tc0Z_"
      },
      "execution_count": null,
      "outputs": []
    },
    {
      "cell_type": "code",
      "source": [
        "acc_train_vs_val(cnn_hist1)\n",
        "loss_train_vs_val(cnn_hist1)"
      ],
      "metadata": {
        "colab": {
          "base_uri": "https://localhost:8080/",
          "height": 573
        },
        "id": "kQOwJuJAg-1h",
        "outputId": "f6d8c4e7-8d9f-4753-f53e-aecbf931018b"
      },
      "execution_count": null,
      "outputs": [
        {
          "output_type": "display_data",
          "data": {
            "text/plain": [
              "<Figure size 432x288 with 1 Axes>"
            ],
            "image/png": "[encoded data removed]"
          },
          "metadata": {
            "needs_background": "light"
          }
        },
        {
          "output_type": "display_data",
          "data": {
            "text/plain": [
              "<Figure size 432x288 with 1 Axes>"
            ],
            "image/png": "[encoded data removed]"
          },
          "metadata": {
            "needs_background": "light"
          }
        }
      ]
    },
    {
      "cell_type": "code",
      "source": [
        "acc_train_vs_val(fc_hist1)\n",
        "loss_train_vs_val(fc_hist1)\n",
        "# testCNN  = CNN(k1).to(device)\n",
        "# testCNN.load_state_dict(CNNmodel.state_dict)"
      ],
      "metadata": {
        "id": "IZ9Ve8hRg5L2"
      },
      "execution_count": null,
      "outputs": []
    },
    {
      "cell_type": "code",
      "source": [
        "def eval_model(model, device, val_loader):\n",
        "  correct_count, all_count = 0, 0\n",
        "  with torch.no_grad():\n",
        "    for inputs, labels in val_loader:\n",
        "        inputs = inputs.to(device)\n",
        "        labels = labels.to(device)\n",
        "        outputs = model(inputs)\n",
        "        _, preds = torch.max(outputs, 1)\n",
        "        correct_pred = torch.eq(labels, preds).cpu()\n",
        "        correct_count += correct_pred.numpy().sum()\n",
        "        all_count += len(labels)\n",
        "\n",
        "  print(\"Number Of Images Tested =\", all_count)\n",
        "  print( str(type(model)) + \" Model Accuracy =\",(correct_count/all_count))"
      ],
      "metadata": {
        "id": "aHtdvVvEKfAH"
      },
      "execution_count": null,
      "outputs": []
    },
    {
      "cell_type": "markdown",
      "source": [
        "### test accuracy for each model"
      ],
      "metadata": {
        "id": "6Y-hbciElpPr"
      }
    },
    {
      "cell_type": "code",
      "source": [
        "eval_model(CNNmodel1,device,testloader)"
      ],
      "metadata": {
        "id": "LbWqfec9lnbP",
        "colab": {
          "base_uri": "https://localhost:8080/"
        },
        "outputId": "9e61affb-4dfc-4cd1-f325-bcc4fe23ed50"
      },
      "execution_count": null,
      "outputs": [
        {
          "output_type": "stream",
          "name": "stdout",
          "text": [
            "Number Of Images Tested = 26032\n",
            "<class '__main__.CNN'> Model Accuracy = 0.7008297480024586\n"
          ]
        }
      ]
    },
    {
      "cell_type": "code",
      "source": [
        "eval_model(FCmodel1,device,testloader)"
      ],
      "metadata": {
        "id": "5gXltI_b2O5i"
      },
      "execution_count": null,
      "outputs": []
    },
    {
      "cell_type": "markdown",
      "source": [
        "## Finetuning **ResNet18**\n"
      ],
      "metadata": {
        "id": "x5oBZc9ij-S1"
      }
    },
    {
      "cell_type": "code",
      "source": [
        "model_ft = models.resnet18(pretrained=True)\n",
        "num_ftrs = model_ft.fc.in_features\n",
        "# Here the size of each output sample is set to 10.\n",
        "# Alternatively, it can be generalized to nn.Linear(num_ftrs, len(class_names)).\n",
        "model_ft.fc = nn.Linear(num_ftrs, 10)\n",
        "\n",
        "model_ft = model_ft#.to(device)\n",
        "\n",
        "criterion = nn.CrossEntropyLoss()\n",
        "\n",
        "# Observe that all parameters are being optimized\n",
        "optimizer_ft = optim.Adam(model_ft.parameters(),lr=0.001)\n",
        "\n",
        "# Decay LR by a factor of 0.1 every 7 epochs\n",
        "exp_lr_scheduler = lr_scheduler.StepLR(optimizer_ft, step_size=7, gamma=0.1)"
      ],
      "metadata": {
        "id": "9_pZP5fPj85I",
        "colab": {
          "base_uri": "https://localhost:8080/",
          "height": 156,
          "referenced_widgets": [
            "6ed037b008a14a26b187b7e43a99f30f",
            "573e9ef21fa049c88308743904e21f67",
            "fb9b104a83284cc483e04522213719f6",
            "f78175f0dc8749dfa6c4fe4f2c0780ac",
            "496f43ae62de41da9756297b6dbe3ea7",
            "b8eb04bdb9be4900993354a357cfc651",
            "429acd78c3444aa796cb355ae626b714",
            "44b93755b75741189bdaa7023751c961",
            "45b862429ce840498076d37b9ea2690b",
            "9e34f4e8f83c4e72882b9755af9465ad",
            "c5d521b9fa0e488789c758f9808c3975"
          ]
        },
        "outputId": "4a0221e0-86d8-46ba-ec78-d58503c0af3c"
      },
      "execution_count": null,
      "outputs": [
        {
          "output_type": "stream",
          "name": "stderr",
          "text": [
            "/usr/local/lib/python3.7/dist-packages/torchvision/models/_utils.py:209: UserWarning: The parameter 'pretrained' is deprecated since 0.13 and will be removed in 0.15, please use 'weights' instead.\n",
            "  f\"The parameter '{pretrained_param}' is deprecated since 0.13 and will be removed in 0.15, \"\n",
            "/usr/local/lib/python3.7/dist-packages/torchvision/models/_utils.py:223: UserWarning: Arguments other than a weight enum or `None` for 'weights' are deprecated since 0.13 and will be removed in 0.15. The current behavior is equivalent to passing `weights=ResNet18_Weights.IMAGENET1K_V1`. You can also use `weights=ResNet18_Weights.DEFAULT` to get the most up-to-date weights.\n",
            "  warnings.warn(msg)\n",
            "Downloading: \"https://download.pytorch.org/models/resnet18-f37072fd.pth\" to /root/.cache/torch/hub/checkpoints/resnet18-f37072fd.pth\n"
          ]
        },
        {
          "output_type": "display_data",
          "data": {
            "text/plain": [
              "  0%|          | 0.00/44.7M [00:00<?, ?B/s]"
            ],
            "application/vnd.jupyter.widget-view+json": {
              "version_major": 2,
              "version_minor": 0,
              "model_id": "6ed037b008a14a26b187b7e43a99f30f"
            }
          },
          "metadata": {}
        }
      ]
    },
    {
      "cell_type": "code",
      "source": [
        "from torchsummary import summary\n",
        "# [3, 224, 224]\n",
        "input_shape = dataset['train'][0][0].shape\n",
        "#summary(model_ft, input_size=input_shape)"
      ],
      "metadata": {
        "id": "A3pTXhcahwhV"
      },
      "execution_count": null,
      "outputs": []
    },
    {
      "cell_type": "code",
      "source": [
        "model_ft,hist_ft = train(model_ft, criterion, optimizer_ft, exp_lr_scheduler)"
      ],
      "metadata": {
        "id": "hfMzrSkBh1JJ"
      },
      "execution_count": null,
      "outputs": []
    },
    {
      "cell_type": "markdown",
      "source": [
        "### loss and accuracy for the ResNet"
      ],
      "metadata": {
        "id": "RtJWfv2bSARg"
      }
    },
    {
      "cell_type": "code",
      "source": [
        "loss_train_vs_val(hist_ft)\n",
        "acc_train_vs_val(hist_ft)"
      ],
      "metadata": {
        "id": "JI7Rm1D8jfbo"
      },
      "execution_count": null,
      "outputs": []
    }
  ]
}